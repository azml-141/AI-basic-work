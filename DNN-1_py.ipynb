{
  "nbformat": 4,
  "nbformat_minor": 0,
  "metadata": {
    "colab": {
      "name": "housing.py",
      "provenance": [],
      "collapsed_sections": []
    },
    "kernelspec": {
      "name": "python3",
      "display_name": "Python 3"
    },
    "accelerator": "GPU"
  },
  "cells": [
    {
      "cell_type": "markdown",
      "metadata": {
        "id": "nAMA12KuOfmw"
      },
      "source": [
        "# Keras DNN으로 집값 예측하기"
      ]
    },
    {
      "cell_type": "markdown",
      "metadata": {
        "id": "YLaAf0o3MGIc"
      },
      "source": [
        "# 1. 패키지 수입 및 하이퍼 파라미터 지정"
      ]
    },
    {
      "cell_type": "markdown",
      "metadata": {
        "id": "FSI31zkAMJy6"
      },
      "source": [
        "파이썬 패키지 수입(선언) - import, from ? import ?, import ? as ?(확장)"
      ]
    },
    {
      "cell_type": "code",
      "metadata": {
        "id": "S69vhSVADdKz"
      },
      "source": [
        "# 데이터 조작 및 분석 라이브러리 패키지(판다스)\r\n",
        "import pandas as pd\r\n",
        "# 주 패키지인 맷플롯립은 데이터를 차트나 플롯으로 그려주는 라이브러리 패키지(데이터 시각화)\r\n",
        "# 서브 패키지인 pyplot은 수치 해석 시각화(MATLAB 비슷) 명령 제공(관례로 alias는 plt로 사용)\r\n",
        "import matplotlib.pyplot as plt\r\n",
        "# 데이터 분포 시각화\r\n",
        "# seaborn은 Matplotlib을 기반으로 다양한 색상 테마와 통계용 차트 등의 기능을 추가한 시각화 패키지\r\n",
        "import seaborn as sns\r\n",
        "# 시간 다루기\r\n",
        "from time import time\r\n",
        "\r\n",
        "# keras는 신경망 라이브러리 패키지\r\n",
        "# keras의 Sequential(순차) 모델 함수\r\n",
        "from keras.models import Sequential\r\n",
        "# 일반적인 뉴럴네트워크의 densly(fully)-connected 레이어 함수\r\n",
        "# Dense()를 이용해 전결합층 생성 가능(N-N 연결)\r\n",
        "from keras.layers import Dense\r\n",
        "# 데이터 모델링 전 반드시 거쳐야하는 스케일링 과정\r\n",
        "# 머신 러닝 라이브러리 Scikit-Learn(사이킷런)에서 제공하는 스케일러 중 기본 스케일러, 평균과 표준편차 사용\r\n",
        "# StandardScaler는 각 feature의 평균을 0, 분산을 1로 변경(z-점수 정규화), 모든 특성들이 같은 스케일을 갖음\r\n",
        "from sklearn.preprocessing import StandardScaler\r\n",
        "# 학습/테스트 데이터 세트 분리 함수\r\n",
        "from sklearn.model_selection import train_test_split"
      ],
      "execution_count": 1,
      "outputs": []
    },
    {
      "cell_type": "markdown",
      "metadata": {
        "id": "h0eHQXc9Nw3M"
      },
      "source": [
        "하이퍼 파라미터 - 학습 프로세서를 제어하는 값을 갖는 매개변수"
      ]
    },
    {
      "cell_type": "code",
      "metadata": {
        "id": "QisR4bwbN0vb"
      },
      "source": [
        "# 은닉층의 개수\r\n",
        "MY_HIDDEN = 100\r\n",
        "# 전체(총) dataset의 학습 횟수 (feed forward + feed backward)\r\n",
        "MY_EPOCH = 70\r\n",
        "# iteration(1회 학습)에 dataset을 몇 개의 BATCH로 나누어 학습하는가.\r\n",
        "MY_BATCH = 13\r\n"
      ],
      "execution_count": 2,
      "outputs": []
    },
    {
      "cell_type": "markdown",
      "metadata": {
        "id": "xtAIhoXlnksT"
      },
      "source": [
        "# 2. 데이터 불러 오기 및 전처리"
      ]
    },
    {
      "cell_type": "markdown",
      "metadata": {
        "id": "KheCskcwnrTR"
      },
      "source": [
        "데이터 파일 읽기\r\n",
        "결과는 pandas의 데이터 프레임 형식(2차원 행렬)"
      ]
    },
    {
      "cell_type": "code",
      "metadata": {
        "id": "VPvRUuDOnwfE"
      },
      "source": [
        "heading = ['CRIM', 'ZN', 'INDUS', 'CHAS', 'NOX', 'RM', 'AGE', \"DIS\", 'RAD', 'TAX', 'PTRATIO', \"LSTAT\", 'MEDV']\r\n",
        "# 가공되지 않은 측정 자료\r\n",
        "raw = pd.read_csv('/content/drive/MyDrive/data/housing.csv')"
      ],
      "execution_count": 3,
      "outputs": []
    },
    {
      "cell_type": "markdown",
      "metadata": {
        "id": "K0eWcEFOrj1B"
      },
      "source": [
        "데이터 원본 출력"
      ]
    },
    {
      "cell_type": "code",
      "metadata": {
        "colab": {
          "base_uri": "https://localhost:8080/"
        },
        "id": "-OJdG7JIrn1X",
        "outputId": "6fa40761-3797-43ee-e631-be6dcc3fd414"
      },
      "source": [
        "pd.set_option('max_columns', None)\r\n",
        "print(\"원본 데이터 샘플 10개\")\r\n",
        "# 데이터 미리보기(head)\r\n",
        "print(raw.head(10))\r\n",
        "\r\n",
        "print(\"\\n원본 데이터 통계\")\r\n",
        "# 다양한 통계량 요약\r\n",
        "print(raw.describe())"
      ],
      "execution_count": 4,
      "outputs": [
        {
          "output_type": "stream",
          "text": [
            "원본 데이터 샘플 10개\n",
            "      CRIM    ZN  INDUS  CHAS    NOX     RM    AGE     DIS  RAD  TAX  PTRATIO  \\\n",
            "0  0.00632  18.0   2.31     0  0.538  6.575   65.2  4.0900    1  296     15.3   \n",
            "1  0.02731   0.0   7.07     0  0.469  6.421   78.9  4.9671    2  242     17.8   \n",
            "2  0.02729   0.0   7.07     0  0.469  7.185   61.1  4.9671    2  242     17.8   \n",
            "3  0.03237   0.0   2.18     0  0.458  6.998   45.8  6.0622    3  222     18.7   \n",
            "4  0.06905   0.0   2.18     0  0.458  7.147   54.2  6.0622    3  222     18.7   \n",
            "5  0.02985   0.0   2.18     0  0.458  6.430   58.7  6.0622    3  222     18.7   \n",
            "6  0.08829  12.5   7.87     0  0.524  6.012   66.6  5.5605    5  311     15.2   \n",
            "7  0.14455  12.5   7.87     0  0.524  6.172   96.1  5.9505    5  311     15.2   \n",
            "8  0.21124  12.5   7.87     0  0.524  5.631  100.0  6.0821    5  311     15.2   \n",
            "9  0.17004  12.5   7.87     0  0.524  6.004   85.9  6.5921    5  311     15.2   \n",
            "\n",
            "   LSTAT  MEDV  \n",
            "0   4.98  24.0  \n",
            "1   9.14  21.6  \n",
            "2   4.03  34.7  \n",
            "3   2.94  33.4  \n",
            "4   5.33  36.2  \n",
            "5   5.21  28.7  \n",
            "6  12.43  22.9  \n",
            "7  19.15  27.1  \n",
            "8  29.93  16.5  \n",
            "9  17.10  18.9  \n",
            "\n",
            "원본 데이터 통계\n",
            "             CRIM          ZN       INDUS        CHAS         NOX          RM  \\\n",
            "count  506.000000  506.000000  506.000000  506.000000  506.000000  506.000000   \n",
            "mean     3.613524   11.363636   11.136779    0.069170    0.554695    6.284634   \n",
            "std      8.601545   23.322453    6.860353    0.253994    0.115878    0.702617   \n",
            "min      0.006320    0.000000    0.460000    0.000000    0.385000    3.561000   \n",
            "25%      0.082045    0.000000    5.190000    0.000000    0.449000    5.885500   \n",
            "50%      0.256510    0.000000    9.690000    0.000000    0.538000    6.208500   \n",
            "75%      3.677082   12.500000   18.100000    0.000000    0.624000    6.623500   \n",
            "max     88.976200  100.000000   27.740000    1.000000    0.871000    8.780000   \n",
            "\n",
            "              AGE         DIS         RAD         TAX     PTRATIO       LSTAT  \\\n",
            "count  506.000000  506.000000  506.000000  506.000000  506.000000  506.000000   \n",
            "mean    68.574901    3.795043    9.549407  408.237154   18.455534   12.653063   \n",
            "std     28.148861    2.105710    8.707259  168.537116    2.164946    7.141062   \n",
            "min      2.900000    1.129600    1.000000  187.000000   12.600000    1.730000   \n",
            "25%     45.025000    2.100175    4.000000  279.000000   17.400000    6.950000   \n",
            "50%     77.500000    3.207450    5.000000  330.000000   19.050000   11.360000   \n",
            "75%     94.075000    5.188425   24.000000  666.000000   20.200000   16.955000   \n",
            "max    100.000000   12.126500   24.000000  711.000000   22.000000   37.970000   \n",
            "\n",
            "             MEDV  \n",
            "count  506.000000  \n",
            "mean    22.532806  \n",
            "std      9.197104  \n",
            "min      5.000000  \n",
            "25%     17.025000  \n",
            "50%     21.200000  \n",
            "75%     25.000000  \n",
            "max     50.000000  \n"
          ],
          "name": "stdout"
        }
      ]
    },
    {
      "cell_type": "markdown",
      "metadata": {
        "id": "uYEt15nfRKpB"
      },
      "source": [
        "데이터 시각화(박스 플롯)"
      ]
    },
    {
      "cell_type": "code",
      "metadata": {
        "colab": {
          "base_uri": "https://localhost:8080/",
          "height": 371
        },
        "id": "zRNNW9DqRTuJ",
        "outputId": "e2bff419-9285-4405-a04c-524cf5a79167"
      },
      "source": [
        "# 박스의 크기 설정\r\n",
        "plt.figure(figsize=(15, 8))\r\n",
        "sns.set(font_scale=1.5)\r\n",
        "sns.boxplot(data=raw, palette='dark')"
      ],
      "execution_count": 5,
      "outputs": [
        {
          "output_type": "execute_result",
          "data": {
            "text/plain": [
              "<matplotlib.axes._subplots.AxesSubplot at 0x7fae8580fe48>"
            ]
          },
          "metadata": {
            "tags": []
          },
          "execution_count": 5
        },
        {
          "output_type": "display_data",
          "data": {
            "image/png": "[encoded data removed]",
            "text/plain": [
              "<Figure size 1080x576 with 1 Axes>"
            ]
          },
          "metadata": {
            "tags": [],
            "needs_background": "light"
          }
        }
      ]
    },
    {
      "cell_type": "markdown",
      "metadata": {
        "id": "sPQh4YYY08A9"
      },
      "source": [
        "Z-점수 정규화\r\n",
        "\r\n",
        "결과는 numpy의 n-차원 행렬 형식"
      ]
    },
    {
      "cell_type": "code",
      "metadata": {
        "id": "YpK-dC-H0wnA"
      },
      "source": [
        "scaler = StandardScaler()\r\n",
        "Z_data = scaler.fit_transform(raw)\r\n",
        "\r\n",
        "# numpy에서 pandas로 전환\r\n",
        "# header 정보 복구 필요\r\n",
        "Z_data = pd.DataFrame(Z_data, \r\n",
        "                      columns=heading)"
      ],
      "execution_count": 6,
      "outputs": []
    },
    {
      "cell_type": "markdown",
      "metadata": {
        "id": "UbAVIY-lLgEf"
      },
      "source": [
        "정규화 된 데이터 출력"
      ]
    },
    {
      "cell_type": "code",
      "metadata": {
        "colab": {
          "base_uri": "https://localhost:8080/"
        },
        "id": "xd0lESE_Lmtx",
        "outputId": "82426f07-a812-4ec7-eaf7-c12cb51538c1"
      },
      "source": [
        "print('정규화 된 데이터 샘플10개')\r\n",
        "print(Z_data.head(10))\r\n",
        "\r\n",
        "print('\\n정규화 된 데이터 통계')\r\n",
        "print(Z_data.describe())"
      ],
      "execution_count": 7,
      "outputs": [
        {
          "output_type": "stream",
          "text": [
            "정규화 된 데이터 샘플10개\n",
            "       CRIM        ZN     INDUS      CHAS       NOX        RM       AGE  \\\n",
            "0 -0.419782  0.284830 -1.287909 -0.272599 -0.144217  0.413672 -0.120013   \n",
            "1 -0.417339 -0.487722 -0.593381 -0.272599 -0.740262  0.194274  0.367166   \n",
            "2 -0.417342 -0.487722 -0.593381 -0.272599 -0.740262  1.282714 -0.265812   \n",
            "3 -0.416750 -0.487722 -1.306878 -0.272599 -0.835284  1.016303 -0.809889   \n",
            "4 -0.412482 -0.487722 -1.306878 -0.272599 -0.835284  1.228577 -0.511180   \n",
            "5 -0.417044 -0.487722 -1.306878 -0.272599 -0.835284  0.207096 -0.351157   \n",
            "6 -0.410243  0.048772 -0.476654 -0.272599 -0.265154 -0.388411 -0.070229   \n",
            "7 -0.403696  0.048772 -0.476654 -0.272599 -0.265154 -0.160466  0.978808   \n",
            "8 -0.395935  0.048772 -0.476654 -0.272599 -0.265154 -0.931206  1.117494   \n",
            "9 -0.400729  0.048772 -0.476654 -0.272599 -0.265154 -0.399808  0.616090   \n",
            "\n",
            "        DIS       RAD       TAX   PTRATIO     LSTAT      MEDV  \n",
            "0  0.140214 -0.982843 -0.666608 -1.459000 -1.075562  0.159686  \n",
            "1  0.557160 -0.867883 -0.987329 -0.303094 -0.492439 -0.101524  \n",
            "2  0.557160 -0.867883 -0.987329 -0.303094 -1.208727  1.324247  \n",
            "3  1.077737 -0.752922 -1.106115  0.113032 -1.361517  1.182758  \n",
            "4  1.077737 -0.752922 -1.106115  0.113032 -1.026501  1.487503  \n",
            "5  1.077737 -0.752922 -1.106115  0.113032 -1.043322  0.671222  \n",
            "6  0.839244 -0.523001 -0.577519 -1.505237 -0.031268  0.039964  \n",
            "7  1.024638 -0.523001 -0.577519 -1.505237  0.910700  0.497082  \n",
            "8  1.087196 -0.523001 -0.577519 -1.505237  2.421774 -0.656595  \n",
            "9  1.329635 -0.523001 -0.577519 -1.505237  0.623344 -0.395385  \n",
            "\n",
            "정규화 된 데이터 통계\n",
            "               CRIM            ZN         INDUS          CHAS           NOX  \\\n",
            "count  5.060000e+02  5.060000e+02  5.060000e+02  5.060000e+02  5.060000e+02   \n",
            "mean  -8.688702e-17  3.306534e-16  2.804081e-16 -3.100287e-16 -8.071058e-16   \n",
            "std    1.000990e+00  1.000990e+00  1.000990e+00  1.000990e+00  1.000990e+00   \n",
            "min   -4.197819e-01 -4.877224e-01 -1.557842e+00 -2.725986e-01 -1.465882e+00   \n",
            "25%   -4.109696e-01 -4.877224e-01 -8.676906e-01 -2.725986e-01 -9.130288e-01   \n",
            "50%   -3.906665e-01 -4.877224e-01 -2.110985e-01 -2.725986e-01 -1.442174e-01   \n",
            "75%    7.396560e-03  4.877224e-02  1.015999e+00 -2.725986e-01  5.986790e-01   \n",
            "max    9.933931e+00  3.804234e+00  2.422565e+00  3.668398e+00  2.732346e+00   \n",
            "\n",
            "                 RM           AGE           DIS           RAD           TAX  \\\n",
            "count  5.060000e+02  5.060000e+02  5.060000e+02  5.060000e+02  5.060000e+02   \n",
            "mean  -5.978968e-17 -2.650493e-16  8.293761e-17  1.514379e-15 -9.934960e-16   \n",
            "std    1.000990e+00  1.000990e+00  1.000990e+00  1.000990e+00  1.000990e+00   \n",
            "min   -3.880249e+00 -2.335437e+00 -1.267069e+00 -9.828429e-01 -1.313990e+00   \n",
            "25%   -5.686303e-01 -8.374480e-01 -8.056878e-01 -6.379618e-01 -7.675760e-01   \n",
            "50%   -1.084655e-01  3.173816e-01 -2.793234e-01 -5.230014e-01 -4.646726e-01   \n",
            "75%    4.827678e-01  9.067981e-01  6.623709e-01  1.661245e+00  1.530926e+00   \n",
            "max    3.555044e+00  1.117494e+00  3.960518e+00  1.661245e+00  1.798194e+00   \n",
            "\n",
            "            PTRATIO         LSTAT          MEDV  \n",
            "count  5.060000e+02  5.060000e+02  5.060000e+02  \n",
            "mean   4.493551e-16 -1.595123e-16 -4.247810e-16  \n",
            "std    1.000990e+00  1.000990e+00  1.000990e+00  \n",
            "min   -2.707379e+00 -1.531127e+00 -1.908226e+00  \n",
            "25%   -4.880391e-01 -7.994200e-01 -5.994557e-01  \n",
            "50%    2.748590e-01 -1.812536e-01 -1.450593e-01  \n",
            "75%    8.065758e-01  6.030188e-01  2.685231e-01  \n",
            "max    1.638828e+00  3.548771e+00  2.989460e+00  \n"
          ],
          "name": "stdout"
        }
      ]
    },
    {
      "cell_type": "markdown",
      "metadata": {
        "id": "lkW8Osk2HZzo"
      },
      "source": [
        "상자 그림 출력"
      ]
    },
    {
      "cell_type": "code",
      "metadata": {
        "colab": {
          "base_uri": "https://localhost:8080/",
          "height": 422
        },
        "id": "AIOCifuSTAkN",
        "outputId": "45094a86-867e-4f5a-d05a-cb1522e03af7"
      },
      "source": [
        "plt.figure(figsize=(13, 8))\r\n",
        "sns.set(font_scale=1.5)\r\n",
        "sns.boxplot(data=Z_data, palette='dark')"
      ],
      "execution_count": 8,
      "outputs": [
        {
          "output_type": "execute_result",
          "data": {
            "text/plain": [
              "<matplotlib.axes._subplots.AxesSubplot at 0x7fae8580fd68>"
            ]
          },
          "metadata": {
            "tags": []
          },
          "execution_count": 8
        },
        {
          "output_type": "display_data",
          "data": {
            "image/png": "[encoded data removed]",
            "text/plain": [
              "<Figure size 936x576 with 1 Axes>"
            ]
          },
          "metadata": {
            "tags": []
          }
        }
      ]
    },
    {
      "cell_type": "markdown",
      "metadata": {
        "id": "gAccE41jM3yd"
      },
      "source": [
        "데이터를 입력과 출력으로 분리"
      ]
    },
    {
      "cell_type": "code",
      "metadata": {
        "id": "iJsFl93zND2M",
        "colab": {
          "base_uri": "https://localhost:8080/"
        },
        "outputId": "8d45e19d-a0d8-4ed2-a453-cde4416b0127"
      },
      "source": [
        "print('\\n분리 전 데이터 모양: ', Z_data.shape)\r\n",
        "X_data = Z_data.drop('MEDV', axis=1)\r\n",
        "Y_data = Z_data['MEDV']"
      ],
      "execution_count": 9,
      "outputs": [
        {
          "output_type": "stream",
          "text": [
            "\n",
            "분리 전 데이터 모양:  (506, 13)\n"
          ],
          "name": "stdout"
        }
      ]
    },
    {
      "cell_type": "markdown",
      "metadata": {
        "id": "LQZCDoFbG1u_"
      },
      "source": [
        "데이터를 학습용과 평가용으로 분리"
      ]
    },
    {
      "cell_type": "code",
      "metadata": {
        "colab": {
          "base_uri": "https://localhost:8080/"
        },
        "id": "edoh6QOxG5PZ",
        "outputId": "cad95c33-27b5-43e8-a3df-acf0d2f658c0"
      },
      "source": [
        "X_train, X_test, Y_train, Y_test = train_test_split(X_data,\r\n",
        "                                                    Y_data,\r\n",
        "                                                    test_size=0.3)\r\n",
        "\r\n",
        "print('\\n학습용 입력 데이터 모양:', X_train.shape)\r\n",
        "print('학습용 출력 데이터 모양:', Y_train.shape)\r\n",
        "print('평가용 입력 데이터 모양:', X_test.shape)\r\n",
        "print('평가용 출력 데이터 모양:', Y_test.shape)\r\n"
      ],
      "execution_count": 10,
      "outputs": [
        {
          "output_type": "stream",
          "text": [
            "\n",
            "학습용 입력 데이터 모양: (354, 12)\n",
            "학습용 출력 데이터 모양: (354,)\n",
            "평가용 입력 데이터 모양: (152, 12)\n",
            "평가용 출력 데이터 모양: (152,)\n"
          ],
          "name": "stdout"
        }
      ]
    },
    {
      "cell_type": "markdown",
      "metadata": {
        "id": "Qk21goALIRtm"
      },
      "source": [
        "# 3. 인공신경망 구현"
      ]
    },
    {
      "cell_type": "code",
      "metadata": {
        "id": "qnyllwt5IWkj",
        "colab": {
          "base_uri": "https://localhost:8080/"
        },
        "outputId": "9de74190-1e24-494e-a689-2adbea3491a8"
      },
      "source": [
        "# 케라스 DNN 구현\r\n",
        "model = Sequential()\r\n",
        "\r\n",
        "# 입력 뉴런 수\r\n",
        "input = X_train.shape[1]\r\n",
        "\r\n",
        "# 입력층과 은닉층 1 추가\r\n",
        "model.add(Dense(units=MY_HIDDEN,\r\n",
        "                input_dim=input,\r\n",
        "                activation='relu'))\r\n",
        "\r\n",
        "# 은닉층 2 추가\r\n",
        "model.add(Dense(units=MY_HIDDEN,\r\n",
        "                activation='relu'))\r\n",
        "# 출력층 추가\r\n",
        "model.add(Dense(units=1))\r\n",
        "\r\n",
        "print('DNN 요약')\r\n",
        "model.summary()"
      ],
      "execution_count": 11,
      "outputs": [
        {
          "output_type": "stream",
          "text": [
            "DNN 요약\n",
            "Model: \"sequential\"\n",
            "_________________________________________________________________\n",
            "Layer (type)                 Output Shape              Param #   \n",
            "=================================================================\n",
            "dense (Dense)                (None, 100)               1300      \n",
            "_________________________________________________________________\n",
            "dense_1 (Dense)              (None, 100)               10100     \n",
            "_________________________________________________________________\n",
            "dense_2 (Dense)              (None, 1)                 101       \n",
            "=================================================================\n",
            "Total params: 11,501\n",
            "Trainable params: 11,501\n",
            "Non-trainable params: 0\n",
            "_________________________________________________________________\n"
          ],
          "name": "stdout"
        }
      ]
    },
    {
      "cell_type": "markdown",
      "metadata": {
        "id": "Svv9cnPcAa_7"
      },
      "source": [
        "# 4. 인공신경망 학습"
      ]
    },
    {
      "cell_type": "code",
      "metadata": {
        "colab": {
          "base_uri": "https://localhost:8080/"
        },
        "id": "8p7gLvM8AjaT",
        "outputId": "325f098f-3b56-40ad-a4fb-d3356f115fad"
      },
      "source": [
        "# 최적화 함수와 손실 함수 지정\r\n",
        "model.compile(optimizer='Adam',\r\n",
        "              loss='mse')\r\n",
        "\r\n",
        "print('\\n 학습 시작')\r\n",
        "begin = time()\r\n",
        "\r\n",
        "model.fit(x=X_train,\r\n",
        "          y=Y_train,\r\n",
        "          epochs=MY_EPOCH,\r\n",
        "          batch_size=MY_BATCH,\r\n",
        "          verbose=1)\r\n",
        "\r\n",
        "end=time()\r\n",
        "print('총 합습시간; {:.1f}초'.format(end-begin))"
      ],
      "execution_count": 12,
      "outputs": [
        {
          "output_type": "stream",
          "text": [
            "\n",
            " 학습 시작\n",
            "Epoch 1/70\n",
            "28/28 [==============================] - 1s 2ms/step - loss: 0.6092\n",
            "Epoch 2/70\n",
            "28/28 [==============================] - 0s 2ms/step - loss: 0.1963\n",
            "Epoch 3/70\n",
            "28/28 [==============================] - 0s 2ms/step - loss: 0.1581\n",
            "Epoch 4/70\n",
            "28/28 [==============================] - 0s 2ms/step - loss: 0.1500\n",
            "Epoch 5/70\n",
            "28/28 [==============================] - 0s 2ms/step - loss: 0.0995\n",
            "Epoch 6/70\n",
            "28/28 [==============================] - 0s 2ms/step - loss: 0.0907\n",
            "Epoch 7/70\n",
            "28/28 [==============================] - 0s 2ms/step - loss: 0.1036\n",
            "Epoch 8/70\n",
            "28/28 [==============================] - 0s 2ms/step - loss: 0.1016\n",
            "Epoch 9/70\n",
            "28/28 [==============================] - 0s 2ms/step - loss: 0.1161\n",
            "Epoch 10/70\n",
            "28/28 [==============================] - 0s 2ms/step - loss: 0.0829\n",
            "Epoch 11/70\n",
            "28/28 [==============================] - 0s 2ms/step - loss: 0.0689\n",
            "Epoch 12/70\n",
            "28/28 [==============================] - 0s 2ms/step - loss: 0.0766\n",
            "Epoch 13/70\n",
            "28/28 [==============================] - 0s 2ms/step - loss: 0.0786\n",
            "Epoch 14/70\n",
            "28/28 [==============================] - 0s 2ms/step - loss: 0.0616\n",
            "Epoch 15/70\n",
            "28/28 [==============================] - 0s 2ms/step - loss: 0.0634\n",
            "Epoch 16/70\n",
            "28/28 [==============================] - 0s 2ms/step - loss: 0.0593\n",
            "Epoch 17/70\n",
            "28/28 [==============================] - 0s 2ms/step - loss: 0.0624\n",
            "Epoch 18/70\n",
            "28/28 [==============================] - 0s 2ms/step - loss: 0.0483\n",
            "Epoch 19/70\n",
            "28/28 [==============================] - 0s 2ms/step - loss: 0.0493\n",
            "Epoch 20/70\n",
            "28/28 [==============================] - 0s 2ms/step - loss: 0.0448\n",
            "Epoch 21/70\n",
            "28/28 [==============================] - 0s 2ms/step - loss: 0.0455\n",
            "Epoch 22/70\n",
            "28/28 [==============================] - 0s 2ms/step - loss: 0.0554\n",
            "Epoch 23/70\n",
            "28/28 [==============================] - 0s 2ms/step - loss: 0.0486\n",
            "Epoch 24/70\n",
            "28/28 [==============================] - 0s 2ms/step - loss: 0.0425\n",
            "Epoch 25/70\n",
            "28/28 [==============================] - 0s 2ms/step - loss: 0.0456\n",
            "Epoch 26/70\n",
            "28/28 [==============================] - 0s 2ms/step - loss: 0.0456\n",
            "Epoch 27/70\n",
            "28/28 [==============================] - 0s 2ms/step - loss: 0.0425\n",
            "Epoch 28/70\n",
            "28/28 [==============================] - 0s 2ms/step - loss: 0.0377\n",
            "Epoch 29/70\n",
            "28/28 [==============================] - 0s 2ms/step - loss: 0.0358\n",
            "Epoch 30/70\n",
            "28/28 [==============================] - 0s 2ms/step - loss: 0.0474\n",
            "Epoch 31/70\n",
            "28/28 [==============================] - 0s 2ms/step - loss: 0.0285\n",
            "Epoch 32/70\n",
            "28/28 [==============================] - 0s 2ms/step - loss: 0.0336\n",
            "Epoch 33/70\n",
            "28/28 [==============================] - 0s 2ms/step - loss: 0.0361\n",
            "Epoch 34/70\n",
            "28/28 [==============================] - 0s 2ms/step - loss: 0.0316\n",
            "Epoch 35/70\n",
            "28/28 [==============================] - 0s 2ms/step - loss: 0.0349\n",
            "Epoch 36/70\n",
            "28/28 [==============================] - 0s 2ms/step - loss: 0.0378\n",
            "Epoch 37/70\n",
            "28/28 [==============================] - 0s 2ms/step - loss: 0.0418\n",
            "Epoch 38/70\n",
            "28/28 [==============================] - 0s 2ms/step - loss: 0.0287\n",
            "Epoch 39/70\n",
            "28/28 [==============================] - 0s 2ms/step - loss: 0.0260\n",
            "Epoch 40/70\n",
            "28/28 [==============================] - 0s 2ms/step - loss: 0.0305\n",
            "Epoch 41/70\n",
            "28/28 [==============================] - 0s 2ms/step - loss: 0.0319\n",
            "Epoch 42/70\n",
            "28/28 [==============================] - 0s 2ms/step - loss: 0.0240\n",
            "Epoch 43/70\n",
            "28/28 [==============================] - 0s 2ms/step - loss: 0.0287\n",
            "Epoch 44/70\n",
            "28/28 [==============================] - 0s 2ms/step - loss: 0.0251\n",
            "Epoch 45/70\n",
            "28/28 [==============================] - 0s 2ms/step - loss: 0.0314\n",
            "Epoch 46/70\n",
            "28/28 [==============================] - 0s 2ms/step - loss: 0.0266\n",
            "Epoch 47/70\n",
            "28/28 [==============================] - 0s 2ms/step - loss: 0.0266\n",
            "Epoch 48/70\n",
            "28/28 [==============================] - 0s 2ms/step - loss: 0.0322\n",
            "Epoch 49/70\n",
            "28/28 [==============================] - 0s 2ms/step - loss: 0.0326\n",
            "Epoch 50/70\n",
            "28/28 [==============================] - 0s 2ms/step - loss: 0.0318\n",
            "Epoch 51/70\n",
            "28/28 [==============================] - 0s 2ms/step - loss: 0.0278\n",
            "Epoch 52/70\n",
            "28/28 [==============================] - 0s 2ms/step - loss: 0.0246\n",
            "Epoch 53/70\n",
            "28/28 [==============================] - 0s 2ms/step - loss: 0.0275\n",
            "Epoch 54/70\n",
            "28/28 [==============================] - 0s 2ms/step - loss: 0.0247\n",
            "Epoch 55/70\n",
            "28/28 [==============================] - 0s 2ms/step - loss: 0.0237\n",
            "Epoch 56/70\n",
            "28/28 [==============================] - 0s 2ms/step - loss: 0.0243\n",
            "Epoch 57/70\n",
            "28/28 [==============================] - 0s 2ms/step - loss: 0.0214\n",
            "Epoch 58/70\n",
            "28/28 [==============================] - 0s 2ms/step - loss: 0.0287\n",
            "Epoch 59/70\n",
            "28/28 [==============================] - 0s 2ms/step - loss: 0.0215\n",
            "Epoch 60/70\n",
            "28/28 [==============================] - 0s 2ms/step - loss: 0.0262\n",
            "Epoch 61/70\n",
            "28/28 [==============================] - 0s 2ms/step - loss: 0.0213\n",
            "Epoch 62/70\n",
            "28/28 [==============================] - 0s 2ms/step - loss: 0.0232\n",
            "Epoch 63/70\n",
            "28/28 [==============================] - 0s 2ms/step - loss: 0.0199\n",
            "Epoch 64/70\n",
            "28/28 [==============================] - 0s 2ms/step - loss: 0.0294\n",
            "Epoch 65/70\n",
            "28/28 [==============================] - 0s 2ms/step - loss: 0.0190\n",
            "Epoch 66/70\n",
            "28/28 [==============================] - 0s 2ms/step - loss: 0.0202\n",
            "Epoch 67/70\n",
            "28/28 [==============================] - 0s 2ms/step - loss: 0.0223\n",
            "Epoch 68/70\n",
            "28/28 [==============================] - 0s 2ms/step - loss: 0.0320\n",
            "Epoch 69/70\n",
            "28/28 [==============================] - 0s 2ms/step - loss: 0.0304\n",
            "Epoch 70/70\n",
            "28/28 [==============================] - 0s 2ms/step - loss: 0.0326\n",
            "총 합습시간; 4.4초\n"
          ],
          "name": "stdout"
        }
      ]
    },
    {
      "cell_type": "markdown",
      "metadata": {
        "id": "ns9LrpV9W9rY"
      },
      "source": [
        "# 5. 인공신경망 평가"
      ]
    },
    {
      "cell_type": "code",
      "metadata": {
        "id": "slRqU03zW9f9",
        "colab": {
          "base_uri": "https://localhost:8080/"
        },
        "outputId": "46c8e3b8-21d5-4c38-d5d0-163c27a752fb"
      },
      "source": [
        "# 신경망 평가 및 손실값 계산\r\n",
        "loss = model.evaluate(x=X_test,\r\n",
        "                      y=Y_test,\r\n",
        "                      verbose=1\r\n",
        "                      )\r\n",
        "\r\n",
        "print('\\nDNN 평균 제곱 오차 (MSE): {:.2f}'.format(loss))"
      ],
      "execution_count": 13,
      "outputs": [
        {
          "output_type": "stream",
          "text": [
            "5/5 [==============================] - 0s 2ms/step - loss: 0.1278\n",
            "\n",
            "DNN 평균 제곱 오차 (MSE): 0.13\n"
          ],
          "name": "stdout"
        }
      ]
    },
    {
      "cell_type": "code",
      "metadata": {
        "id": "ZcvDtKk24tiG",
        "colab": {
          "base_uri": "https://localhost:8080/",
          "height": 298
        },
        "outputId": "64eae2ef-d69e-47dc-d6ce-802dc07f3ada"
      },
      "source": [
        "# 신경망 활용 및 산포도 출력\r\n",
        "pred = model.predict(x=X_test)\r\n",
        "sns.regplot(x=Y_test, y=pred)\r\n",
        "\r\n",
        "plt.xlabel('Actual Values')\r\n",
        "plt.ylabel('predicted Values')\r\n",
        "plt.show()"
      ],
      "execution_count": 14,
      "outputs": [
        {
          "output_type": "display_data",
          "data": {
            "image/png": "[encoded data removed]",
            "text/plain": [
              "<Figure size 432x288 with 1 Axes>"
            ]
          },
          "metadata": {
            "tags": []
          }
        }
      ]
    }
  ]
}